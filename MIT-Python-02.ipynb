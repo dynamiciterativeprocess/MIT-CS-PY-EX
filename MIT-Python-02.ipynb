{
 "cells": [
  {
   "cell_type": "code",
   "execution_count": null,
   "metadata": {},
   "outputs": [
    {
     "name": "stdout",
     "output_type": "stream",
     "text": [
      "umbrella ella ella ella \n"
     ]
    }
   ],
   "source": [
    "#STRINGS: Letter, special charaters, spaces and digits\n",
    "# Enclosed in 'single' or \"double\" quotation marks\n",
    "once = \"umbr\"\n",
    "repeat = \"ella\"\n",
    "u = once + (repeat+\" \")*4\n",
    "print(u)"
   ]
  },
  {
   "cell_type": "code",
   "execution_count": 7,
   "metadata": {},
   "outputs": [
    {
     "name": "stdout",
     "output_type": "stream",
     "text": [
      "False\n",
      "False\n"
     ]
    }
   ],
   "source": [
    "pset_time = 15\n",
    "sleep_time =8\n",
    "print(sleep_time > pset_time)\n",
    "drive = True\n",
    "drink = False\n",
    "both = drive and drink\n",
    "print(both)"
   ]
  },
  {
   "cell_type": "code",
   "execution_count": null,
   "metadata": {},
   "outputs": [],
   "source": [
    "# \n",
    "x = float(input(\"Enter a number for x: \"))\n",
    "y = float(input(\"Enter a number for y: \"))\n",
    "if x==y:\n",
    "    if y !=0:\n",
    "        print(\"x/y is \", x/y)\n",
    "    elif x < y:\n",
    "        print(\"x is smaller\")\n",
    "    else:\n",
    "        print(\"y is smaller\")"
   ]
  },
  {
   "cell_type": "code",
   "execution_count": 10,
   "metadata": {},
   "outputs": [
    {
     "name": "stdout",
     "output_type": "stream",
     "text": [
      "you've lost in the forest\n"
     ]
    }
   ],
   "source": [
    "n = input(\"You're in the Lost Forest. Go left or right? \")\n",
    "while n==\"right\":\n",
    "    n = input(\"You're in the lost forest. Go Left or Right? \")\n",
    "print(\"you've lost in the forest\")"
   ]
  },
  {
   "cell_type": "code",
   "execution_count": 11,
   "metadata": {},
   "outputs": [
    {
     "name": "stdout",
     "output_type": "stream",
     "text": [
      "5\n"
     ]
    }
   ],
   "source": [
    "mysum = 0\n",
    "for i in range(5, 11, 2):\n",
    "    mysum += i\n",
    "    if mysum == 5:\n",
    "        break\n",
    "        mysum += 1\n",
    "print(mysum)\n"
   ]
  }
 ],
 "metadata": {
  "kernelspec": {
   "display_name": "Python 3",
   "language": "python",
   "name": "python3"
  },
  "language_info": {
   "codemirror_mode": {
    "name": "ipython",
    "version": 3
   },
   "file_extension": ".py",
   "mimetype": "text/x-python",
   "name": "python",
   "nbconvert_exporter": "python",
   "pygments_lexer": "ipython3",
   "version": "3.10.11"
  }
 },
 "nbformat": 4,
 "nbformat_minor": 2
}
