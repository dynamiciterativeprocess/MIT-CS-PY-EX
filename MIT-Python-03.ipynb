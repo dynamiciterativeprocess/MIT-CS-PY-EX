{
 "cells": [
  {
   "cell_type": "code",
   "execution_count": 8,
   "metadata": {},
   "outputs": [
    {
     "name": "stdout",
     "output_type": "stream",
     "text": [
      "3\n"
     ]
    }
   ],
   "source": [
    "#String Manipulation\n",
    "# Follows a sequence of sensitive characters\n",
    "# Can Compare strings with ==, >, <, >=, <=, !=\n",
    "# lens() returns the number of characters in a string\n",
    "s = \"abc\"\n",
    "print(len(s))\n"
   ]
  },
  {
   "cell_type": "code",
   "execution_count": 9,
   "metadata": {},
   "outputs": [
    {
     "name": "stdout",
     "output_type": "stream",
     "text": [
      "a\n",
      "b\n",
      "c\n",
      "c\n",
      "b\n",
      "a\n"
     ]
    }
   ],
   "source": [
    "#Square Brackets perform indexing[] into a string to return a value at a specific index/position \n",
    "s =\"abc\"\n",
    "#index:  0 1 2  <- first element starts at 0\n",
    "#index: -3 -2 -1 <- last element starts at -1\n",
    "print(s[0])\n",
    "print(s[1])\n",
    "print(s[2])\n",
    "#print(s[3]) #IndexError: string index out of range\n",
    "print(s[-1])\n",
    "print(s[-2])\n",
    "print(s[-3])"
   ]
  },
  {
   "cell_type": "code",
   "execution_count": 10,
   "metadata": {},
   "outputs": [
    {
     "name": "stdout",
     "output_type": "stream",
     "text": [
      "def\n",
      "df\n",
      "abcdefgh\n",
      "hgfedcba\n",
      "ec\n"
     ]
    }
   ],
   "source": [
    "#String Slicing\n",
    "s = \"abcdefgh\"\n",
    "print(s[3:6])\n",
    "print(s[3:6:2])\n",
    "print(s[::])\n",
    "print(s[::-1])\n",
    "print(s[4:1:-2])"
   ]
  },
  {
   "cell_type": "code",
   "execution_count": 11,
   "metadata": {},
   "outputs": [
    {
     "name": "stdout",
     "output_type": "stream",
     "text": [
      "yello\n"
     ]
    }
   ],
   "source": [
    "#String are \"immutable\" - cannot be modified once created\n",
    "s = \"hello\"\n",
    "#s[0] = 'y'\n",
    "s = 'y' + s[1:len(s)]\n",
    "print(s)\n"
   ]
  },
  {
   "cell_type": "code",
   "execution_count": 12,
   "metadata": {},
   "outputs": [
    {
     "name": "stdout",
     "output_type": "stream",
     "text": [
      "this is not an r or u\n",
      "this is not an r or u\n",
      "this is not an r or u\n",
      "this is not an r or u\n",
      "this is not an r or u\n",
      "this is not an r or u\n",
      "this is not an r or u\n",
      "this is not an r or u\n"
     ]
    }
   ],
   "source": [
    "#LOOPS Recaps\n",
    "#For loops have a loop variable that iterates over a sequence\n",
    "# for var in range(4): var is 0, 1, 2, 3 \n",
    "#for var in range(4:6): var is 4,5\n",
    "#range() iterates over numbers, loops iterate over set of values\n",
    "s = \"abcdefgh\"\n",
    "for i in range(len(s)):\n",
    "    if s[i] == 'r' or s[i] =='u':\n",
    "        print(\"this is an r or u\")\n",
    "    else:\n",
    "        print(\"this is not an r or u\")"
   ]
  },
  {
   "cell_type": "code",
   "execution_count": 13,
   "metadata": {},
   "outputs": [],
   "source": [
    "#FOR LOOPS OVER STRINGS\n",
    "s = \"demo loops\"\n",
    "for index in range(len(s)):\n",
    "    if s[index] == \"i\" or s[index] == 'u':\n",
    "        print(\"this is an i or u\")\n",
    "for char in s:\n",
    "    if char =='i' or char =='u':\n",
    "        print(\"There is an i or u\")"
   ]
  },
  {
   "cell_type": "code",
   "execution_count": 14,
   "metadata": {},
   "outputs": [
    {
     "name": "stdout",
     "output_type": "stream",
     "text": [
      "What does that spell?\n",
      "hello !!!\n",
      "hello !!!\n",
      "hello !!!\n",
      "hello !!!\n",
      "hello !!!\n",
      "hello !!!\n",
      "hello !!!\n",
      "hello !!!\n",
      "hello !!!\n"
     ]
    }
   ],
   "source": [
    "#Example: For Loops over Strings\n",
    "an_letters = \"abcdefGHIGH\"\n",
    "word = input(\"I will cheer for you! Enter a word:\")\n",
    "times = int(input(\"Enthusiam level (1-10):\"))\n",
    "\n",
    "while i < len(word):\n",
    "    char = word[i]\n",
    "    if char in an_letters:\n",
    "        print(\"Give me an \" + char + \"! \" + char)\n",
    "    else:\n",
    "        print(\"Give me a \" + char + \" ! \" + char)\n",
    "    i += 1\n",
    "print(\"What does that spell?\")\n",
    "for i in range(times):\n",
    "    print(word,\"!!!\")"
   ]
  },
  {
   "cell_type": "code",
   "execution_count": 15,
   "metadata": {},
   "outputs": [
    {
     "name": "stdout",
     "output_type": "stream",
     "text": [
      "Cube root of 8120601 is 201\n"
     ]
    }
   ],
   "source": [
    "cube = 27\n",
    "cube = 8120601\n",
    "for guess in range(cube + 1):\n",
    "    if guess **3 == cube:\n",
    "        print(\"Cube root of\", cube, \"is\", guess)"
   ]
  },
  {
   "cell_type": "code",
   "execution_count": 16,
   "metadata": {},
   "outputs": [
    {
     "name": "stdout",
     "output_type": "stream",
     "text": [
      "8120601 is not a perfect cube\n"
     ]
    }
   ],
   "source": [
    "cube = 27\n",
    "cube = 8120601\n",
    "for guess in range(abs(cube)+1):\n",
    "    if guess **3  >= abs(cube):\n",
    "        break\n",
    "if guess **3 == cube:\n",
    "    print(cube, \"is not a perfect cube\")\n",
    "else:\n",
    "    if cube < 0:\n",
    "        guess = -guess\n",
    "    print(\"Cube root of \", +str(cube) + \"is\" + str(guess))"
   ]
  },
  {
   "cell_type": "code",
   "execution_count": 17,
   "metadata": {},
   "outputs": [
    {
     "name": "stdout",
     "output_type": "stream",
     "text": [
      "num_guesses: 20100\n",
      "200.99999999996217 is close to the cube root of 8120601\n"
     ]
    }
   ],
   "source": [
    "##Approximation of Cube Root\n",
    "cube = 27\n",
    "cube = 8120601\n",
    "epsilon = 0.1\n",
    "guess = 0.0\n",
    "increment = 0.01\n",
    "num_guesses = 0\n",
    "while abs(guess**3 - cube) >= epsilon and guess <= cube:\n",
    "    guess += increment \n",
    "    num_guesses += 1\n",
    "print(\"num_guesses:\", num_guesses)\n",
    "if abs(guess**3 - cube) >= epsilon:\n",
    "    print('Failed on cube root of', cube , 'with these parameteres')\n",
    "else:\n",
    "    print(guess, 'is close to the cube root of', cube)"
   ]
  },
  {
   "cell_type": "code",
   "execution_count": 18,
   "metadata": {},
   "outputs": [
    {
     "name": "stdout",
     "output_type": "stream",
     "text": [
      "num_guesses: 41\n",
      "201.00000027142482 is close to the cube root of 8120601\n"
     ]
    }
   ],
   "source": [
    "#Bisection cube root (only positive cubes)\n",
    "cube = 27\n",
    "cube = 8120601\n",
    "epsilon = 0.1\n",
    "num_guesses = 0\n",
    "low_guess = 0.0\n",
    "high_guess = max(1.0, cube)\n",
    "guess = (low_guess + high_guess) / 2.0\n",
    "while abs(guess**3 - cube) >= epsilon:\n",
    "    if guess**3 < cube:\n",
    "        low_guess = guess\n",
    "    else:\n",
    "        high_guess = guess\n",
    "    guess = (low_guess + high_guess) / 2.0\n",
    "    num_guesses += 1\n",
    "print('num_guesses:', num_guesses)\n",
    "print(guess, 'is close to the cube root of', cube)"
   ]
  }
 ],
 "metadata": {
  "kernelspec": {
   "display_name": "Python 3",
   "language": "python",
   "name": "python3"
  },
  "language_info": {
   "codemirror_mode": {
    "name": "ipython",
    "version": 3
   },
   "file_extension": ".py",
   "mimetype": "text/x-python",
   "name": "python",
   "nbconvert_exporter": "python",
   "pygments_lexer": "ipython3",
   "version": "3.10.11"
  }
 },
 "nbformat": 4,
 "nbformat_minor": 2
}
